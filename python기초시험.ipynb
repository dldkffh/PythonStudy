{
 "cells": [
  {
   "cell_type": "code",
   "execution_count": null,
   "metadata": {},
   "outputs": [],
   "source": []
  },
  {
   "cell_type": "markdown",
   "metadata": {},
   "source": [
    "### Question2 (기초)"
   ]
  },
  {
   "cell_type": "code",
   "execution_count": 12,
   "metadata": {},
   "outputs": [
    {
     "name": "stdout",
     "output_type": "stream",
     "text": [
      "정수 입력 : 5\n",
      "입력하신 숫자 5는 양수입니다.\n"
     ]
    }
   ],
   "source": [
    "#Q2 기초\n",
    "num = int(input(\"정수 입력 : \"))\n",
    "if (num == 0) : \n",
    "    print(\"입력하신 숫자 %d는 0입니다.\"%num)\n",
    "if (num < 0) : \n",
    "    print(\"입력하신 숫자 %d는 음수입니다.\"%num)\n",
    "if (num > 0) : \n",
    "    print(\"입력하신 숫자 %d는 양수입니다.\"%num)"
   ]
  },
  {
   "cell_type": "markdown",
   "metadata": {},
   "source": [
    "### Question2 (응용)"
   ]
  },
  {
   "cell_type": "code",
   "execution_count": 4,
   "metadata": {},
   "outputs": [
    {
     "name": "stdout",
     "output_type": "stream",
     "text": [
      "====사칙연산(+,-,*,/)====\n",
      "첫 번쨰 정수 입력 : 7\n",
      "두 번쨰 정수 입력 : 2\n",
      "연산자 입력 : /\n",
      "연산결과 : 3.500000\n"
     ]
    }
   ],
   "source": [
    "#Q2 응용\n",
    "\n",
    "print(\"====사칙연산(+,-,*,/)====\")\n",
    "num1 = int(input(\"첫 번쨰 정수 입력 : \"))\n",
    "num2 = int(input(\"두 번쨰 정수 입력 : \"))\n",
    "mid = input(\"연산자 입력 : \")\n",
    "\n",
    "if mid == '+' :\n",
    "    out = num1+num2\n",
    "    print(\"연산결과 : %d\"%out)\n",
    "elif mid == '-' :\n",
    "    out = num1-num2\n",
    "    print(\"연산결과 : %d\"%out)\n",
    "elif mid == '*' :\n",
    "    out = num1*num2  \n",
    "    print(\"연산결과 : %d\"%out)\n",
    "elif mid == '/' :\n",
    "    out = float(num1/num2)\n",
    "    print(\"연산결과 : %f\"%out)\n"
   ]
  },
  {
   "cell_type": "markdown",
   "metadata": {},
   "source": [
    "### Question3 (기초)"
   ]
  },
  {
   "cell_type": "code",
   "execution_count": 13,
   "metadata": {},
   "outputs": [
    {
     "name": "stdout",
     "output_type": "stream",
     "text": [
      "3 5 6 9 10 12 15 18 20 21 24 25 27 30 33 35 36 39 40 42 45 48 50 "
     ]
    }
   ],
   "source": [
    "#Q3 기초\n",
    "for num in range(1,51) :\n",
    "    if (num%3 == 0) or (num %5 == 0) :\n",
    "        print(num, end = \" \")"
   ]
  },
  {
   "cell_type": "markdown",
   "metadata": {},
   "source": [
    "### Question3 (응용)"
   ]
  },
  {
   "cell_type": "code",
   "execution_count": 14,
   "metadata": {},
   "outputs": [
    {
     "name": "stdout",
     "output_type": "stream",
     "text": [
      "정수 입력 : 45159873333\n",
      "합은 42입니다.\n"
     ]
    }
   ],
   "source": [
    "#Q3 응용\n",
    "numline = input('정수 입력 : ')\n",
    "sum = 0\n",
    "\n",
    "for i in range(8) :\n",
    "    sum += int(numline[i])\n",
    "\n",
    "print(\"합은 %d입니다.\"%sum)"
   ]
  },
  {
   "cell_type": "markdown",
   "metadata": {},
   "source": [
    "### Question4 (기초)"
   ]
  },
  {
   "cell_type": "code",
   "execution_count": 9,
   "metadata": {},
   "outputs": [
    {
     "name": "stdout",
     "output_type": "stream",
     "text": [
      "6 8 12 "
     ]
    }
   ],
   "source": [
    "#Q4 기초\n",
    "arr = [7, 6, 8, 9, 5, 12, 25, 3, 1]\n",
    "for i in arr :\n",
    "    if (i%2 == 0) :\n",
    "        print(\"%d\"%i, end = \" \")"
   ]
  },
  {
   "cell_type": "markdown",
   "metadata": {},
   "source": [
    "### Question4 (응용)"
   ]
  },
  {
   "cell_type": "code",
   "execution_count": 15,
   "metadata": {},
   "outputs": [
    {
     "name": "stdout",
     "output_type": "stream",
     "text": [
      "짝수 2개, 홀수 7개\n"
     ]
    }
   ],
   "source": [
    "#Q4 응용\n",
    "list = [1, 30, 7, 9, 17, 3, 5, 23, 44]\n",
    "n = 0\n",
    "o = 0\n",
    "for num in list :\n",
    "    if (num%2 == 0) : \n",
    "        n += 1\n",
    "    else :\n",
    "        o += 1\n",
    "print(\"짝수 %d개, 홀수 %d개\"%(n, o))"
   ]
  },
  {
   "cell_type": "code",
   "execution_count": null,
   "metadata": {},
   "outputs": [],
   "source": []
  }
 ],
 "metadata": {
  "kernelspec": {
   "display_name": "Python 3",
   "language": "python",
   "name": "python3"
  },
  "language_info": {
   "codemirror_mode": {
    "name": "ipython",
    "version": 3
   },
   "file_extension": ".py",
   "mimetype": "text/x-python",
   "name": "python",
   "nbconvert_exporter": "python",
   "pygments_lexer": "ipython3",
   "version": "3.7.1"
  }
 },
 "nbformat": 4,
 "nbformat_minor": 2
}
