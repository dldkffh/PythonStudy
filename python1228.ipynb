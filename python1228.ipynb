{
 "cells": [
  {
   "cell_type": "markdown",
   "metadata": {},
   "source": [
    "## 복습"
   ]
  },
  {
   "cell_type": "code",
   "execution_count": 1,
   "metadata": {
    "scrolled": true
   },
   "outputs": [
    {
     "name": "stdout",
     "output_type": "stream",
     "text": [
      "호출!\n",
      "호출!\n",
      "호출!\n",
      "호출!\n",
      "호출!\n",
      "호출!\n",
      "호출!\n",
      "호출!\n",
      "호출!\n",
      "호출!\n"
     ]
    }
   ],
   "source": [
    "count = 1\n",
    "\n",
    "while count < 11:\n",
    "    print('호출!')\n",
    "    count += 1 #이게 없으면 무한 반복이된다."
   ]
  },
  {
   "cell_type": "markdown",
   "metadata": {},
   "source": [
    "### 1부터 10까지 숫자를 출력하고 총합을 출력하시오."
   ]
  },
  {
   "cell_type": "code",
   "execution_count": 11,
   "metadata": {},
   "outputs": [
    {
     "name": "stdout",
     "output_type": "stream",
     "text": [
      "1 2 3 4 5 6 7 8 9 10 \n",
      "총합 : 55\n"
     ]
    }
   ],
   "source": [
    "sum = 0\n",
    "num = 1\n",
    "array = []\n",
    "while num <= 10 :\n",
    "    print (num, end = ' ') #끝을 enter가 아니라 ' '으로\n",
    "    #array.append(num)\n",
    "    sum += num\n",
    "    num += 1\n",
    "#print(array)\n",
    "print('\\n총합 : %d'%sum)"
   ]
  },
  {
   "cell_type": "code",
   "execution_count": 2,
   "metadata": {},
   "outputs": [
    {
     "name": "stdout",
     "output_type": "stream",
     "text": [
      "1 2 3 4 5 6 7 8 9 10 \n",
      "총합 : 55\n"
     ]
    }
   ],
   "source": [
    "sum = 0\n",
    "num = 1\n",
    "while True :\n",
    "    if num <= 10 :\n",
    "        print (num, end = ' ')\n",
    "        sum += num\n",
    "        num += 1\n",
    "    else :\n",
    "        break\n",
    "        \n",
    "print('\\n총합 : %d'%sum)"
   ]
  },
  {
   "cell_type": "markdown",
   "metadata": {},
   "source": [
    "# 반복문 : for"
   ]
  },
  {
   "cell_type": "code",
   "execution_count": 10,
   "metadata": {},
   "outputs": [
    {
     "name": "stdout",
     "output_type": "stream",
     "text": [
      "0 호출!\n",
      "2 호출!\n",
      "4 호출!\n",
      "6 호출!\n",
      "8 호출!\n"
     ]
    }
   ],
   "source": [
    "for i in range(0, 10, 2) :\n",
    "    print('%d 호출!'%i)"
   ]
  },
  {
   "cell_type": "code",
   "execution_count": 13,
   "metadata": {},
   "outputs": [
    {
     "name": "stdout",
     "output_type": "stream",
     "text": [
      "96 95 94 93 92 91 90 89 88 87 86 85 84 83 82 81 80 79 78 77 76 75 74 73 72 71 70 69 68 67 66 65 64 63 62 61 60 59 58 57 56 55 54 53 "
     ]
    }
   ],
   "source": [
    "for i in range(96, 52, -1) :\n",
    "    print(i, end = ' ')"
   ]
  },
  {
   "cell_type": "code",
   "execution_count": 14,
   "metadata": {},
   "outputs": [
    {
     "name": "stdout",
     "output_type": "stream",
     "text": [
      "21 23 25 27 29 31 33 35 37 39 41 43 45 47 49 51 53 55 57 "
     ]
    }
   ],
   "source": [
    "for i in range(21, 58, 2) :\n",
    "    print(i, end = ' ')"
   ]
  },
  {
   "cell_type": "code",
   "execution_count": 17,
   "metadata": {},
   "outputs": [
    {
     "name": "stdout",
     "output_type": "stream",
     "text": [
      "21 23 25 27 29 31 33 35 37 39 41 43 45 47 49 51 53 55 57 "
     ]
    }
   ],
   "source": [
    "for i in range(21, 58) :\n",
    "    if i%2 == 1 :\n",
    "        print(i, end = ' ')"
   ]
  },
  {
   "cell_type": "code",
   "execution_count": 19,
   "metadata": {},
   "outputs": [
    {
     "name": "stdout",
     "output_type": "stream",
     "text": [
      "정수입력 : 11\n",
      "1 2 3 4 5 6 7 8 9 10 11 "
     ]
    }
   ],
   "source": [
    "num = int(input('정수입력 : '))\n",
    "for i in range (1, num+1) :\n",
    "    print(i, end = ' ')"
   ]
  },
  {
   "cell_type": "code",
   "execution_count": 22,
   "metadata": {},
   "outputs": [
    {
     "name": "stdout",
     "output_type": "stream",
     "text": [
      "1\n",
      "2\n",
      "3\n",
      "4\n",
      "5\n"
     ]
    }
   ],
   "source": [
    "array = [1, 2, 3, 4, 5]\n",
    "\n",
    "print(array[0])\n",
    "print(array[1])\n",
    "print(array[2])\n",
    "print(array[3])\n",
    "print(array[4])"
   ]
  },
  {
   "cell_type": "code",
   "execution_count": 25,
   "metadata": {},
   "outputs": [
    {
     "name": "stdout",
     "output_type": "stream",
     "text": [
      "1\n",
      "2\n",
      "3\n",
      "4\n",
      "5\n",
      "5\n",
      "4\n",
      "3\n",
      "2\n",
      "1\n",
      "1\n",
      "3\n",
      "5\n"
     ]
    }
   ],
   "source": [
    "for index in range(5) :\n",
    "    print(array[index])\n",
    "    \n",
    "for index in range(4, -1, -1) :\n",
    "    print(array[index])\n",
    "\n",
    "for index in range(0, 5, 2) :\n",
    "    print(array[index])"
   ]
  },
  {
   "cell_type": "code",
   "execution_count": 26,
   "metadata": {},
   "outputs": [
    {
     "name": "stdout",
     "output_type": "stream",
     "text": [
      "1 2 3 4 5 "
     ]
    }
   ],
   "source": [
    "array = [1, 2, 3, 4, 5]\n",
    "for number in array :\n",
    "    print(number, end=' ')"
   ]
  },
  {
   "cell_type": "code",
   "execution_count": 35,
   "metadata": {},
   "outputs": [
    {
     "name": "stdout",
     "output_type": "stream",
     "text": [
      "a리스트의 길이 : 3\n",
      "1 + 2 = 3\n",
      "3 + 4 = 7\n",
      "5 + 6 = 11\n"
     ]
    }
   ],
   "source": [
    "a = [[1, 2],[3, 4],[5, 6]]\n",
    "\n",
    "print('a리스트의 길이 : %d'%(len(a)))\n",
    "\n",
    "for i, j in a :\n",
    "    print('%d + %d = %d'%(i, j, (i+j)))"
   ]
  },
  {
   "cell_type": "code",
   "execution_count": 44,
   "metadata": {},
   "outputs": [
    {
     "name": "stdout",
     "output_type": "stream",
     "text": [
      "1번 학생은 합격입니다.\n",
      "2번 학생은 불합격입니다.\n",
      "3번 학생은 합격입니다.\n",
      "4번 학생은 불합격입니다.\n",
      "5번 학생은 합격입니다.\n"
     ]
    }
   ],
   "source": [
    "array = [90, 25, 67, 45, 80]\n",
    "count = 0\n",
    "for i in array :\n",
    "    count += 1\n",
    "    if i >= 60 :\n",
    "        print('%d번 학생은 합격입니다.'%count)\n",
    "    else :\n",
    "        print('%d번 학생은 불합격입니다.'%count)"
   ]
  },
  {
   "cell_type": "code",
   "execution_count": 46,
   "metadata": {
    "scrolled": false
   },
   "outputs": [
    {
     "name": "stdout",
     "output_type": "stream",
     "text": [
      "1번 학생은 합격입니다.\n",
      "2번 학생은 불합격입니다.\n",
      "3번 학생은 합격입니다.\n",
      "4번 학생은 불합격입니다.\n",
      "5번 학생은 합격입니다.\n"
     ]
    }
   ],
   "source": [
    "array2 = [90, 25, 67, 45, 80]\n",
    "for index in range(len(array2)) :\n",
    "    if array2[index] >= 60 :\n",
    "        print('%d번 학생은 합격입니다.'%(index+1))\n",
    "    else :\n",
    "        print('%d번 학생은 불합격입니다.'%(index+1))"
   ]
  },
  {
   "cell_type": "markdown",
   "metadata": {},
   "source": [
    "# 딕셔너리"
   ]
  },
  {
   "cell_type": "code",
   "execution_count": 76,
   "metadata": {},
   "outputs": [
    {
     "name": "stdout",
     "output_type": "stream",
     "text": [
      "{'name': 'sy', 'age': 99, 'gender': 'woman'}\n",
      "이름 : sy\n",
      "나이 : 99\n",
      "나이 : 99\n",
      "성별 : woman\n",
      "번호 : 062-000-0000\n",
      "메일 : jja@gmail.com\n",
      "{'name': 'sy', 'age': 99, 'gender': 'woman', 'email': 'jja@gmail.com'}\n",
      "{'name': 'sy', 'age': 99, 'gender': 'woman', 'email': 'jja@gmail.com'}\n",
      "{}\n"
     ]
    }
   ],
   "source": [
    "dic = {\"name\":\"sy\", \"age\":99, \"gender\":\"woman\"}\n",
    "print(dic)\n",
    "print('이름 : '+dic['name'])\n",
    "print('나이 : %d'%dic['age'])\n",
    "print('나이 : '+str(dic['age']))\n",
    "print('성별 : '+dic['gender'])\n",
    "\n",
    "\n",
    "#딕셔너리에 데이터 추가\n",
    "dic['phone'] = '062-000-0000'\n",
    "print('번호 : '+dic['phone'])\n",
    "\n",
    "dic['email'] = 'jja@gmail.com'\n",
    "print('메일 : '+dic['email'])\n",
    "\n",
    "#딕셔너리에서 요소 삭제\n",
    "del dic['phone']\n",
    "print(dic)\n",
    "\n",
    "#딕셔너리 전체 삭제\n",
    "print(dic)\n",
    "dic.clear()\n",
    "print(dic)"
   ]
  },
  {
   "cell_type": "code",
   "execution_count": 75,
   "metadata": {},
   "outputs": [
    {
     "name": "stdout",
     "output_type": "stream",
     "text": [
      "True\n"
     ]
    }
   ],
   "source": [
    "dic = {\"name\":\"sy\", \"age\":99, \"gender\":\"woman\"}\n",
    "#딕셔너리 안에 키값 확인\n",
    "print('name' in dic)"
   ]
  },
  {
   "cell_type": "markdown",
   "metadata": {},
   "source": [
    "# 함수 "
   ]
  },
  {
   "cell_type": "code",
   "execution_count": 2,
   "metadata": {},
   "outputs": [],
   "source": [
    "def show():\n",
    "    print('함수호출!')"
   ]
  },
  {
   "cell_type": "code",
   "execution_count": 3,
   "metadata": {},
   "outputs": [
    {
     "name": "stdout",
     "output_type": "stream",
     "text": [
      "함수호출!\n"
     ]
    },
    {
     "data": {
      "text/plain": [
       "'5'"
      ]
     },
     "execution_count": 3,
     "metadata": {},
     "output_type": "execute_result"
    }
   ],
   "source": [
    "show()\n",
    "int(2)\n",
    "float(2.5)\n",
    "str(5)"
   ]
  },
  {
   "cell_type": "code",
   "execution_count": 5,
   "metadata": {},
   "outputs": [
    {
     "data": {
      "text/plain": [
       "2"
      ]
     },
     "execution_count": 5,
     "metadata": {},
     "output_type": "execute_result"
    }
   ],
   "source": [
    "int(2.5)"
   ]
  },
  {
   "cell_type": "code",
   "execution_count": 15,
   "metadata": {},
   "outputs": [],
   "source": [
    "def sum(num1, num2):\n",
    "    #print(num1+num2)\n",
    "    return num1+num2\n",
    "\n",
    "def avg():\n",
    "    return (sum(50, 65))/2"
   ]
  },
  {
   "cell_type": "code",
   "execution_count": 16,
   "metadata": {},
   "outputs": [
    {
     "name": "stdout",
     "output_type": "stream",
     "text": [
      "두 과목의 합: 115\n",
      "평균 57\n"
     ]
    }
   ],
   "source": [
    "total = sum(50, 65)\n",
    "print('두 과목의 합: %d'%total)\n",
    "print('평균 %d'%avg())"
   ]
  },
  {
   "cell_type": "code",
   "execution_count": 18,
   "metadata": {},
   "outputs": [
    {
     "name": "stdout",
     "output_type": "stream",
     "text": [
      "Base 입력 : 2\n",
      "N 입력 : 3\n",
      "결과 확인 : 8\n"
     ]
    }
   ],
   "source": [
    "def powerN():\n",
    "    base = int(input('Base 입력 : '))\n",
    "    n = int(input('N 입력 : '))\n",
    "    return base**n\n",
    "result = powerN()\n",
    "print('결과 확인 : %d'%result)"
   ]
  },
  {
   "cell_type": "code",
   "execution_count": 22,
   "metadata": {},
   "outputs": [],
   "source": [
    "def powerN(base, n):\n",
    "    return base**n"
   ]
  },
  {
   "cell_type": "code",
   "execution_count": 28,
   "metadata": {},
   "outputs": [
    {
     "name": "stdout",
     "output_type": "stream",
     "text": [
      "Base 입력 : 5\n",
      "N 입력 : 456\n",
      "결과 확인 : 5374300886053671001432772471160181703656337759490422924923640120776236400870326477361818887475162494088500784322141128806175675579326831304175390927953746128545914430661060716046861838142665804400346051881230600155954877043233642928710487766112222208509540321944071930262404172308488004006221672170795500278472900390625\n"
     ]
    }
   ],
   "source": [
    "base = int(input('Base 입력 : '))\n",
    "n = int(input('N 입력 : '))\n",
    "\n",
    "result = powerN(base, n) #powerN() 호출\n",
    "print('결과 확인 : %d'%result)"
   ]
  },
  {
   "cell_type": "code",
   "execution_count": 26,
   "metadata": {},
   "outputs": [
    {
     "data": {
      "text/plain": [
       "32"
      ]
     },
     "execution_count": 26,
     "metadata": {},
     "output_type": "execute_result"
    }
   ],
   "source": [
    "powerN(2, 5)"
   ]
  },
  {
   "cell_type": "code",
   "execution_count": null,
   "metadata": {},
   "outputs": [],
   "source": []
  }
 ],
 "metadata": {
  "kernelspec": {
   "display_name": "Python 3",
   "language": "python",
   "name": "python3"
  },
  "language_info": {
   "codemirror_mode": {
    "name": "ipython",
    "version": 3
   },
   "file_extension": ".py",
   "mimetype": "text/x-python",
   "name": "python",
   "nbconvert_exporter": "python",
   "pygments_lexer": "ipython3",
   "version": "3.7.1"
  }
 },
 "nbformat": 4,
 "nbformat_minor": 2
}
