{
 "cells": [
  {
   "cell_type": "markdown",
   "metadata": {},
   "source": [
    "# 키보드로부터 입력받기 : input()"
   ]
  },
  {
   "cell_type": "code",
   "execution_count": null,
   "metadata": {},
   "outputs": [],
   "source": [
    "input()"
   ]
  },
  {
   "cell_type": "code",
   "execution_count": null,
   "metadata": {},
   "outputs": [],
   "source": [
    "name = input('당신의 이름을 입력해주세요 : ')"
   ]
  },
  {
   "cell_type": "code",
   "execution_count": null,
   "metadata": {},
   "outputs": [],
   "source": [
    "print('당신의 이름은 %s입니다.'%name)"
   ]
  },
  {
   "cell_type": "code",
   "execution_count": null,
   "metadata": {},
   "outputs": [],
   "source": [
    "type(name)"
   ]
  },
  {
   "cell_type": "code",
   "execution_count": null,
   "metadata": {},
   "outputs": [],
   "source": [
    "num1 = int(input('첫 번째 정수 입력 : '))\n",
    "num2 = input('두 번째 정수 입력 : ')\n",
    "sum = num1 + int(num2)\n",
    "print('%s 과 %s 의 합은 %d 입니다.'%(num1, num2, sum))"
   ]
  },
  {
   "cell_type": "code",
   "execution_count": null,
   "metadata": {},
   "outputs": [],
   "source": [
    "num1 = int(input('첫 번째 정수 입력 : '))\n",
    "num2 = int(input('두 번째 정수 입력 : '))\n",
    "result = num1 // num2\n",
    "rest = num1 % num2\n",
    "print('나눗셈 몫 : %d'%result)\n",
    "print('나머지 : %d'%rest)"
   ]
  },
  {
   "cell_type": "code",
   "execution_count": null,
   "metadata": {},
   "outputs": [],
   "source": [
    "java = int(input('Java 점수 입력 : '))\n",
    "web = int(input('Web 점수 입력 : '))\n",
    "android = int(input('Android 점수 입력 : '))\n",
    "sum = java + web + android\n",
    "aver = sum / 3\n",
    "print('합계 : %d'%sum)\n",
    "print('평균 : %d'%aver)"
   ]
  },
  {
   "cell_type": "code",
   "execution_count": null,
   "metadata": {},
   "outputs": [],
   "source": [
    "time = int(input('초 입력 : '))\n",
    "hour = time // 3600\n",
    "min = (time - hour*3600) // 60\n",
    "sec = (time % 3600) % 60\n",
    "print('%d시 %d분 %d초'%(hour, min, sec))"
   ]
  },
  {
   "cell_type": "code",
   "execution_count": null,
   "metadata": {},
   "outputs": [],
   "source": [
    "print('-'*10)"
   ]
  },
  {
   "cell_type": "code",
   "execution_count": null,
   "metadata": {},
   "outputs": [],
   "source": [
    "print(2*2*2)\n",
    "print(2**3)"
   ]
  },
  {
   "cell_type": "code",
   "execution_count": null,
   "metadata": {},
   "outputs": [],
   "source": [
    "a = 1\n",
    "b = 1\n",
    "\n",
    "a = a + b\n",
    "a += b"
   ]
  },
  {
   "cell_type": "code",
   "execution_count": null,
   "metadata": {},
   "outputs": [],
   "source": [
    "a=4\n",
    "b=3\n",
    "\n",
    "temp=a\n",
    "a=b\n",
    "b=temp\n",
    "\n",
    "a,b = b,a"
   ]
  },
  {
   "cell_type": "code",
   "execution_count": null,
   "metadata": {},
   "outputs": [],
   "source": [
    "a = 3\n",
    "b = 10\n",
    "print(a!=b)\n",
    "print(a>b)\n",
    "print(not a>b)"
   ]
  },
  {
   "cell_type": "markdown",
   "metadata": {},
   "source": [
    "# 조건문(if문)"
   ]
  },
  {
   "cell_type": "code",
   "execution_count": null,
   "metadata": {},
   "outputs": [],
   "source": [
    "age = int(input('나이를 입력하세요 : '))"
   ]
  },
  {
   "cell_type": "code",
   "execution_count": null,
   "metadata": {},
   "outputs": [],
   "source": [
    "if age >= 20 :\n",
    "    print('성인입니다.');"
   ]
  },
  {
   "cell_type": "code",
   "execution_count": null,
   "metadata": {},
   "outputs": [],
   "source": [
    "num = int(input('숫자를 입력하세요 : '))\n",
    "if (num % 3 == 0) and num % 5 == 0 :\n",
    "    print('3과 5의 배수입니다.');\n",
    "else:\n",
    "    #else문은 조건이 False인 경우 동작\n",
    "     print('3과 5의 배수가 아닙니다.');"
   ]
  },
  {
   "cell_type": "code",
   "execution_count": null,
   "metadata": {},
   "outputs": [],
   "source": [
    "grade = int(input('성적을 입력하세요 : '))\n",
    "if grade >= 60 :\n",
    "    print ('합격입니다.');\n",
    "else :\n",
    "    print('불합격입니다.');"
   ]
  },
  {
   "cell_type": "code",
   "execution_count": null,
   "metadata": {},
   "outputs": [],
   "source": [
    "num = int(input('정수를 입력 : '))\n",
    "if num % 2 == 0 :\n",
    "    print('%d은 짝수입니다.'%num);\n",
    "else : \n",
    "    print('%d은 홀수입니다.'%num);"
   ]
  },
  {
   "cell_type": "code",
   "execution_count": 5,
   "metadata": {},
   "outputs": [
    {
     "name": "stdout",
     "output_type": "stream",
     "text": [
      "몇개의 설선물세트를 구매하시겠습니까 : 19\n",
      "가격은 171000원입니다.\n"
     ]
    }
   ],
   "source": [
    "num = int(input('몇개의 설선물세트를 구매하시겠습니까 : '))\n",
    "if num <= 10 :\n",
    "    print('가격은 %d원입니다.'%(num*10000));\n",
    "else : \n",
    "    print('가격은 %d원입니다.'%(num*10000*0.9));"
   ]
  },
  {
   "cell_type": "code",
   "execution_count": 6,
   "metadata": {},
   "outputs": [
    {
     "name": "stdout",
     "output_type": "stream",
     "text": [
      "정수1 입력 : 5\n",
      "정수2 입력 : 3\n"
     ]
    }
   ],
   "source": [
    "num1 = int(input('정수1 입력 : '))\n",
    "num2 = int(input('정수2 입력 : '))"
   ]
  },
  {
   "cell_type": "code",
   "execution_count": 9,
   "metadata": {},
   "outputs": [
    {
     "name": "stdout",
     "output_type": "stream",
     "text": [
      "num1이 num2보다 크다\n"
     ]
    }
   ],
   "source": [
    "if num1 > num2 :\n",
    "    print('num1이 num2보다 크다');\n",
    "elif num1 < num2 :\n",
    "    print('num1이 num2보다 작다');\n",
    "else :\n",
    "    print('num1과 num2는 같다');"
   ]
  },
  {
   "cell_type": "code",
   "execution_count": 10,
   "metadata": {},
   "outputs": [
    {
     "name": "stdout",
     "output_type": "stream",
     "text": [
      "시험점수 입력 : 86\n"
     ]
    }
   ],
   "source": [
    "grade = int(input('시험점수 입력 : '))"
   ]
  },
  {
   "cell_type": "code",
   "execution_count": 11,
   "metadata": {},
   "outputs": [
    {
     "name": "stdout",
     "output_type": "stream",
     "text": [
      "86 점 B입니다.\n"
     ]
    }
   ],
   "source": [
    "if grade >= 90 and grade <= 100 :\n",
    "    print('%d 점 A입니다.'%grade);\n",
    "elif grade >= 80 and grade <= 89 :\n",
    "    print('%d 점 B입니다.'%grade);\n",
    "elif grade >= 70 and grade <= 79 :\n",
    "    print('%d 점 C입니다.'%grade);\n",
    "elif grade >= 60 and grade <= 69 :\n",
    "    print('%d 점 D입니다.'%grade);\n",
    "else :\n",
    "    print('%d 점 F입니다.'%grade);"
   ]
  },
  {
   "cell_type": "code",
   "execution_count": null,
   "metadata": {},
   "outputs": [],
   "source": []
  }
 ],
 "metadata": {
  "kernelspec": {
   "display_name": "Python 3",
   "language": "python",
   "name": "python3"
  },
  "language_info": {
   "codemirror_mode": {
    "name": "ipython",
    "version": 3
   },
   "file_extension": ".py",
   "mimetype": "text/x-python",
   "name": "python",
   "nbconvert_exporter": "python",
   "pygments_lexer": "ipython3",
   "version": "3.7.1"
  }
 },
 "nbformat": 4,
 "nbformat_minor": 2
}
